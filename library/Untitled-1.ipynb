{
 "cells": [
  {
   "cell_type": "code",
   "execution_count": 2,
   "metadata": {},
   "outputs": [
    {
     "name": "stdout",
     "output_type": "stream",
     "text": [
      "ìë¼ë¹ì ëì´í¸ 5 - ìì¸ ìë¼ë, ë¬¸í\n"
     ]
    }
   ],
   "source": [
    "import requests\n",
    "import xmltodict\n",
    "key = \"ttbmlboy101516001\"\n",
    "QueryType = \"Title\"\n",
    "user_input = \"파이썬\"\n",
    "url = f\"http://www.aladin.co.kr/ttb/api/test/ItemSearch.xml?ttbkey={key}&Query={user_input}&QueryType={QueryType}&MaxResults={10}\"\n",
    "temp = requests.get(url)\n",
    "dict_type = xmltodict.parse(temp.text)\n",
    "print(dict_type['object']['item'][0]['title'])\n"
   ]
  },
  {
   "cell_type": "code",
   "execution_count": null,
   "metadata": {},
   "outputs": [],
   "source": []
  },
  {
   "cell_type": "code",
   "execution_count": null,
   "metadata": {},
   "outputs": [],
   "source": []
  },
  {
   "cell_type": "code",
   "execution_count": null,
   "metadata": {},
   "outputs": [],
   "source": []
  }
 ],
 "metadata": {
  "interpreter": {
   "hash": "5eb0b6aa134e545b45409be64a591bc372d49296cc6f3e1c0e20759f264b4d5a"
  },
  "kernelspec": {
   "display_name": "Python 3.9.9 64-bit (windows store)",
   "language": "python",
   "name": "python3"
  },
  "language_info": {
   "codemirror_mode": {
    "name": "ipython",
    "version": 3
   },
   "file_extension": ".py",
   "mimetype": "text/x-python",
   "name": "python",
   "nbconvert_exporter": "python",
   "pygments_lexer": "ipython3",
   "version": "3.8.8"
  },
  "orig_nbformat": 4
 },
 "nbformat": 4,
 "nbformat_minor": 2
}
