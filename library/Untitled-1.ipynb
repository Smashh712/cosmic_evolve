{
 "cells": [
  {
   "cell_type": "code",
   "execution_count": 1,
   "metadata": {},
   "outputs": [
    {
     "name": "stdout",
     "output_type": "stream",
     "text": [
      "[OrderedDict([('@itemId', '964568'), ('title', 'ì\\x95\\x84ë\\x9d¼ë¹\\x84ì\\x95\\x88 ë\\x82\\x98ì\\x9d´í\\x8a¸ 5 - ì\\x83\\x81ì\\x9d¸ ì\\x95\\x8cë\\x9d¼ë\\x94\\x98, ë¬¸í\\x99\\x94'), ('link', 'http://www.aladdin.co.kr/shop/wproduct.aspx?ISBN=8979592566&copyPaper=1&ttbkey=[ttbKey]'), ('author', 'ê·¸ë¦¼ë\\x82\\x98ë¬´ ê¸\\x80.ê·¸ë¦¼, ì\\x9d´í\\x9d¬ì\\x88\\x98 ê°\\x90ì\\x88\\x98'), ('pubDate', 'Thu, 19 Jul 2007 15:00:00 GMT'), ('description', \"<img src='http://image.aladdin.co.kr/coveretc/book/coveroff/8979592566_1.jpg'/> ì\\x95\\x84ë\\x9d¼ë¹\\x84ì\\x95\\x88 ë\\x82\\x98ì\\x9d´í\\x8a¸ 5 - ê·¸ë¦¼ë\\x82\\x98ë¬´ ê¸\\x80.ê·¸ë¦¼, ì\\x9d´í\\x9d¬ì\\x88\\x98 ê°\\x90ì\\x88\\x98 <br/>\"), ('creator', 'aladdin'), ('isbn', '8979592566'), ('priceSales', '7650'), ('priceStandard', '8500'), ('stockStatus', None), ('mileage', '230'), ('cover', 'http://image.aladdin.co.kr/coveretc/book/coversum/8979592566_1.jpg'), ('categoryId', '0'), ('categoryName', None), ('publisher', 'ê¸°í\\x83\\x84ì¶\\x9cí\\x8c\\x90'), ('customerReviewRank', '0')]), OrderedDict([('@itemId', '907990'), ('title', \"ì\\x9d´ë³´ì\\x98\\x81ì\\x9d\\x98 ì\\x98\\x81ì\\x96´ ë§\\x8cí\\x99\\x94 Aladdin's Magic Lamp (ì±\\x85 + ì\\x9b\\x8cí\\x81¬ë¶\\x81 + CD 1ì\\x9e¥) - ì\\x95\\x8cë\\x9d¼ë\\x94\\x98ì\\x9d\\x98 ì\\x9a\\x94ì\\x88\\xa0 ë\\x9e¨í\\x94\\x84, Kelly's Magic English\"), ('link', 'http://www.aladdin.co.kr/shop/wproduct.aspx?ISBN=8957363335&copyPaper=1&ttbkey=[ttbKey]'), ('author', 'ì\\x95\\x84ë\\x9e\\x8dë¯¼í\\x99\\x94 ì\\x9b\\x90ì\\x9e\\x91, ì\\x9d´ë³´ì\\x98\\x81 ì§\\x80ì\\x9d\\x8c, ì\\x96\\x91ì\\x8a¹ì\\x9a± ê·¸ë¦¼'), ('pubDate', 'Sun, 15 Apr 2007 15:00:00 GMT'), ('description', \"<img src='http://image.aladdin.co.kr/coveretc/book/coveroff/8957363335_1.jpg'/> ì\\x9d´ë³´ì\\x98\\x81ì\\x9d\\x98 ì\\x98\\x81ì\\x96´ ë§\\x8cí\\x99\\x94 Aladdin's Magic Lamp (ì±\\x85 + ì\\x9b\\x8cí\\x81¬ë¶\\x81 + CD 1ì\\x9e¥) - ì\\x95\\x84ë\\x9e\\x8dë¯¼í\\x99\\x94 ì\\x9b\\x90ì\\x9e\\x91, ì\\x9d´ë³´ì\\x98\\x81 ì§\\x80ì\\x9d\\x8c, ì\\x96\\x91ì\\x8a¹ì\\x9a± ê·¸ë¦¼ <br/> 'Kelly's Magic English 'ì\\x8b\\x9cë¦¬ì¦\\x88ë\\x8a\\x94 ì´\\x88ë\\x93±í\\x95\\x99ì\\x83\\x9dë\\x93¤ì\\x9d\\x84 ë\\x8c\\x80ì\\x83\\x81ì\\x9c¼ë¡\\x9c í\\x95\\x9c ì\\x98\\x81ì\\x96´ ë§\\x8cí\\x99\\x94ì±\\x85ì\\x9d´ë\\x8b¤. ê·¸ ì¤\\x91 4 ë²\\x88ì§¸ë¡\\x9c ì\\x86\\x8cê°\\x9cë\\x90\\x9c ê²\\x83ì\\x9d´ ì\\x9d´ë\\x8b¤. ë³¸ë¬¸ì\\x9d\\x84 ëª¨ë\\x91\\x90 ë\\x8c\\x80í\\x99\\x94ì²´ë¡\\x9c êµ¬ì\\x84±í\\x95\\x98ì\\x97¬ ì\\x83\\x9dí\\x99\\x9c ì\\x98\\x81ì\\x96´ í\\x91\\x9cí\\x98\\x84ì\\x9d\\x84 ì\\x9dµí\\x9e\\x88ê¸°ì\\x97\\x90 ì¢\\x8bê³\\xa0, ì¤\\x91ì\\x9a\\x94í\\x95\\x9c í\\x91\\x9cí\\x98\\x84ì\\x9d\\x80 ë°\\x98ë³µì\\xa0\\x81ì\\x9c¼ë¡\\x9c ë\\x8b¤ë¤\\x84ì¤\\x80ë\\x8b¤. ë\\x98\\x90 ì\\x9b\\x90ì\\x96´ë¯¼ ê°\\x95ì\\x82¬ë\\x93¤ì\\x9d\\x98 ì\\x98¤ë\\x94\\x94ì\\x98¤ CDê°\\x80 í\\x8f¬í\\x95¨ë\\x90\\x98ì\\x96´ ì\\x9e\\x88ì\\x96´ í\\x95¨ê»\\x98 ì\\x97¬ë\\x9f¬ ë²\\x88 ë°\\x98ë³µí\\x95\\x98ì\\x97¬ ë\\x93¤ì\\x9d\\x84 ì\\x88\\x98 ì\\x9e\\x88ë\\x8b¤.\"), ('creator', 'aladdin'), ('isbn', '8957363335'), ('priceSales', '12150'), ('priceStandard', '13500'), ('stockStatus', None), ('mileage', '2430'), ('cover', 'http://image.aladdin.co.kr/coveretc/book/coversum/8957363335_1.jpg'), ('categoryId', '8277'), ('categoryName', 'ë\\x8f\\x84ì\\x84\\x9c>ì\\x96´ë¦°ì\\x9d´>ì\\x97°ë\\xa0¹ë³\\x84 ë¶\\x84ë¥\\x98>ì´\\x88ë\\x93± ì\\xa0\\x84í\\x95\\x99ë\\x85\\x84>ë§\\x8cí\\x99\\x94'), ('publisher', 'ê°\\x80ë\\x82\\x98ì¶\\x9cí\\x8c\\x90ì\\x82¬'), ('customerReviewRank', '0')]), OrderedDict([('@itemId', '914892'), ('title', \"Genie School (Storybook 1ê¶\\x8c + Workbook 1ê¶\\x8c + Audio CD 2ì\\x9e¥) - Aladdin, Disney's First Readers Level 3\"), ('link', 'http://www.aladdin.co.kr/shop/wproduct.aspx?ISBN=8909131187&copyPaper=1&ttbkey=[ttbKey]'), ('author', 'Kyohaksa ELT ì§\\x80ì\\x9d\\x8c'), ('pubDate', 'Sat, 31 Mar 2007 15:00:00 GMT'), ('description', \"<img src='http://image.aladdin.co.kr/coveretc/book/coveroff/8909131187_1.jpg'/> Genie School (Storybook 1ê¶\\x8c + Workbook 1ê¶\\x8c + Audio CD 2ì\\x9e¥) - Kyohaksa ELT ì§\\x80ì\\x9d\\x8c <br/>\"), ('creator', 'aladdin'), ('isbn', '8909131187'), ('priceSales', '9900'), ('priceStandard', '11000'), ('stockStatus', None), ('mileage', '300'), ('cover', 'http://image.aladdin.co.kr/coveretc/book/coversum/8909131187_1.jpg'), ('categoryId', '0'), ('categoryName', None), ('publisher', 'êµ\\x90í\\x95\\x99ì\\x82¬(ELT)'), ('customerReviewRank', '0')]), OrderedDict([('@itemId', '891421'), ('title', 'Aladdin (with Audio CD) - A Read-Aloud Storybook'), ('link', 'http://www.aladdin.co.kr/shop/wproduct.aspx?ISBN=8909122110&copyPaper=1&ttbkey=[ttbKey]'), ('author', 'êµ\\x90í\\x95\\x99ì\\x82¬ í\\x8e¸ì§\\x91ë¶\\x80 ì\\x97®ì\\x9d\\x8c'), ('pubDate', 'Wed, 28 Feb 2007 15:00:00 GMT'), ('description', \"<img src='http://image.aladdin.co.kr/coveretc/book/coveroff/8909122110_1.jpg'/> Aladdin (with Audio CD) - êµ\\x90í\\x95\\x99ì\\x82¬ í\\x8e¸ì§\\x91ë¶\\x80 ì\\x97®ì\\x9d\\x8c <br/>\"), ('creator', 'aladdin'), ('isbn', '8909122110'), ('priceSales', '10800'), ('priceStandard', '12000'), ('stockStatus', None), ('mileage', '330'), ('cover', 'http://image.aladdin.co.kr/coveretc/book/coversum/8909122110_1.jpg'), ('categoryId', '0'), ('categoryName', None), ('publisher', 'êµ\\x90í\\x95\\x99ì\\x82¬(ELT)'), ('customerReviewRank', '0')]), OrderedDict([('@itemId', '883366'), ('title', 'ì\\x95\\x8cë\\x9d¼ë\\x94\\x98ê³¼ ì\\x9a\\x94ì\\x88\\xa0 ë\\x9e¨í\\x94\\x84 - ë\\x8b¨ì§\\x9d ê·¸ë¦¼ ë\\x8f\\x99í\\x99\\x94 25'), ('link', 'http://www.aladdin.co.kr/shop/wproduct.aspx?ISBN=8931918208&copyPaper=1&ttbkey=[ttbKey]'), ('author', 'ì\\x95\\x84ë\\x9e\\x8dë¯¼í\\x99\\x94 ì§\\x80ì\\x9d\\x8c, ì\\x9d´ë¯¸ì\\x95\\xa0 ì\\x97®ì\\x9d\\x8c, ì\\x9d´ê²½í\\x9d¬ ê·¸ë¦¼'), ('pubDate', 'Fri, 29 Dec 2006 15:00:00 GMT'), ('description', \"<img src='http://image.aladdin.co.kr/coveretc/book/coveroff/8931918208_1.jpg'/> ì\\x95\\x8cë\\x9d¼ë\\x94\\x98ê³¼ ì\\x9a\\x94ì\\x88\\xa0 ë\\x9e¨í\\x94\\x84 - ì\\x95\\x84ë\\x9e\\x8dë¯¼í\\x99\\x94 ì§\\x80ì\\x9d\\x8c, ì\\x9d´ë¯¸ì\\x95\\xa0 ì\\x97®ì\\x9d\\x8c, ì\\x9d´ê²½í\\x9d¬ ê·¸ë¦¼ <br/>\"), ('creator', 'aladdin'), ('isbn', '8931918208'), ('priceSales', '5220'), ('priceStandard', '5800'), ('stockStatus', None), ('mileage', '270'), ('cover', 'http://image.aladdin.co.kr/coveretc/book/coversum/8931918208_1.jpg'), ('categoryId', '3166'), ('categoryName', 'ë\\x8f\\x84ì\\x84\\x9c>ì\\x9c\\xa0ì\\x95\\x84>ì\\x97°ë\\xa0¹ë³\\x84ë¶\\x84ë¥\\x98>ë§\\x8c4~6ì\\x84¸>ì\\x99¸êµ\\xadê·¸ë¦¼ì±'), ('publisher', 'ì§\\x80ê²½ì\\x82¬'), ('customerReviewRank', '0')]), OrderedDict([('@itemId', '887738'), ('title', \"Aladdin - Abu Monkeys Around (with Audio CD) - Disney's First Readers Level 2 Workbook\"), ('link', 'http://www.aladdin.co.kr/shop/wproduct.aspx?ISBN=8909125675&copyPaper=1&ttbkey=[ttbKey]'), ('author', 'ì\\x8a¤í\\x83\\xa0í\\x8a¼ H. í\\x94\\x84ë¡\\x9dí\\x84° & ë©\\x9cë\\x9d¼ë\\x8b\\x88 í\\x94\\x84ë¡\\x9dí\\x84° ì§\\x80ì\\x9d\\x8c'), ('pubDate', 'Mon, 20 Nov 2006 15:00:00 GMT'), ('description', \"<img src='http://image.aladdin.co.kr/coveretc/book/coveroff/8909125675_1.jpg'/> Aladdin - Abu Monkeys Around (with Audio CD) - ì\\x8a¤í\\x83\\xa0í\\x8a¼ H. í\\x94\\x84ë¡\\x9dí\\x84° & ë©\\x9cë\\x9d¼ë\\x8b\\x88 í\\x94\\x84ë¡\\x9dí\\x84° ì§\\x80ì\\x9d\\x8c <br/>\"), ('creator', 'aladdin'), ('isbn', '8909125675'), ('priceSales', '4050'), ('priceStandard', '4500'), ('stockStatus', None), ('mileage', '130'), ('cover', 'http://image.aladdin.co.kr/coveretc/book/coversum/8909125675_1.jpg'), ('categoryId', '5325'), ('categoryName', 'ë\\x8f\\x84ì\\x84\\x9c>í\\x95´ì\\x99¸ë\\x8f\\x84ì\\x84\\x9c>ì\\x96´ë¦°ì\\x9d´>ë\\x82\\x9cì\\x9d´ë\\x8f\\x84 ë¶\\x84ë¥\\x98>beginning(ì´\\x88ê¸\\x89)'), ('publisher', 'êµ\\x90í\\x95\\x99ì\\x82¬(ELT)'), ('customerReviewRank', '0')]), OrderedDict([('@itemId', '887712'), ('title', \"Aladdin - Genie School (with Audio CD) - Disney's First Readers Level 3 Workbook\"), ('link', 'http://www.aladdin.co.kr/shop/wproduct.aspx?ISBN=8909125594&copyPaper=1&ttbkey=[ttbKey]'), ('author', 'ì\\x8a¤í\\x83\\xa0í\\x8a¼ H. í\\x94\\x84ë¡\\x9dí\\x84° & ë©\\x9cë\\x9d¼ë\\x8b\\x88 í\\x94\\x84ë¡\\x9dí\\x84° ì§\\x80ì\\x9d\\x8c'), ('pubDate', 'Mon, 20 Nov 2006 15:00:00 GMT'), ('description', \"<img src='http://image.aladdin.co.kr/coveretc/book/coveroff/8909125594_1.jpg'/> Aladdin - Genie School (with Audio CD) - ì\\x8a¤í\\x83\\xa0í\\x8a¼ H. í\\x94\\x84ë¡\\x9dí\\x84° & ë©\\x9cë\\x9d¼ë\\x8b\\x88 í\\x94\\x84ë¡\\x9dí\\x84° ì§\\x80ì\\x9d\\x8c <br/>\"), ('creator', 'aladdin'), ('isbn', '8909125594'), ('priceSales', '4050'), ('priceStandard', '4500'), ('stockStatus', None), ('mileage', '130'), ('cover', 'http://image.aladdin.co.kr/coveretc/book/coversum/8909125594_1.jpg'), ('categoryId', '5325'), ('categoryName', 'ë\\x8f\\x84ì\\x84\\x9c>í\\x95´ì\\x99¸ë\\x8f\\x84ì\\x84\\x9c>ì\\x96´ë¦°ì\\x9d´>ë\\x82\\x9cì\\x9d´ë\\x8f\\x84 ë¶\\x84ë¥\\x98>beginning(ì´\\x88ê¸\\x89)'), ('publisher', 'êµ\\x90í\\x95\\x99ì\\x82¬(ELT)'), ('customerReviewRank', '0')]), OrderedDict([('@itemId', '887768'), ('title', \"Aladdin - Genie School (with Audio CD) - Disney's First Readers Level 3\"), ('link', 'http://www.aladdin.co.kr/shop/wproduct.aspx?ISBN=8909122447&copyPaper=1&ttbkey=[ttbKey]'), ('author', 'K. A. Alister ê¸\\x80, Christian Monte ê·¸ë¦¼'), ('pubDate', 'Fri, 27 Oct 2006 15:00:00 GMT'), ('description', \"<img src='http://image.aladdin.co.kr/coveretc/book/coveroff/8909122447_1.jpg'/> Aladdin - Genie School (with Audio CD) - K. A. Alister ê¸\\x80, Christian Monte ê·¸ë¦¼ <br/>\"), ('creator', 'aladdin'), ('isbn', '8909122447'), ('priceSales', '5850'), ('priceStandard', '6500'), ('stockStatus', None), ('mileage', '180'), ('cover', 'http://image.aladdin.co.kr/coveretc/book/coversum/8909122447_1.jpg'), ('categoryId', '5325'), ('categoryName', 'ë\\x8f\\x84ì\\x84\\x9c>í\\x95´ì\\x99¸ë\\x8f\\x84ì\\x84\\x9c>ì\\x96´ë¦°ì\\x9d´>ë\\x82\\x9cì\\x9d´ë\\x8f\\x84 ë¶\\x84ë¥\\x98>beginning(ì´\\x88ê¸\\x89)'), ('publisher', 'êµ\\x90í\\x95\\x99ì\\x82¬(ELT)'), ('customerReviewRank', '0')]), OrderedDict([('@itemId', '887619'), ('title', \"Aladdin - Abu Monkeys Around (with Audio CD) - Disney's First Readers Level 2\"), ('link', 'http://www.aladdin.co.kr/shop/wproduct.aspx?ISBN=8909122293&copyPaper=1&ttbkey=[ttbKey]'), ('author', 'Anne Schreiber ê¸\\x80, Darren Hont ê·¸ë¦¼'), ('pubDate', 'Fri, 27 Oct 2006 15:00:00 GMT'), ('description', \"<img src='http://image.aladdin.co.kr/coveretc/book/coveroff/8909122293_1.jpg'/> Aladdin - Abu Monkeys Around (with Audio CD) - Anne Schreiber ê¸\\x80, Darren Hont ê·¸ë¦¼ <br/>\"), ('creator', 'aladdin'), ('isbn', '8909122293'), ('priceSales', '5850'), ('priceStandard', '6500'), ('stockStatus', None), ('mileage', '180'), ('cover', 'http://image.aladdin.co.kr/coveretc/book/coversum/8909122293_1.jpg'), ('categoryId', '5325'), ('categoryName', 'ë\\x8f\\x84ì\\x84\\x9c>í\\x95´ì\\x99¸ë\\x8f\\x84ì\\x84\\x9c>ì\\x96´ë¦°ì\\x9d´>ë\\x82\\x9cì\\x9d´ë\\x8f\\x84 ë¶\\x84ë¥\\x98>beginning(ì´\\x88ê¸\\x89)'), ('publisher', 'êµ\\x90í\\x95\\x99ì\\x82¬(ELT)'), ('customerReviewRank', '0')]), OrderedDict([('@itemId', '830016'), ('title', '10ë¶\\x84 ì\\x9d´ì\\x95¼ê¸° ëª\\x85ì\\x83\\x81 2 - ì\\x8a¬ê¸°ë¡\\x9cì\\x9a´ ì\\x83\\x9dí\\x99\\x9c í\\x8e¸, ì\\x95\\x8cë\\x9d¼ë\\x94\\x98 ë¶\\x81ì\\x8a¤'), ('link', 'http://www.aladdin.co.kr/shop/wproduct.aspx?ISBN=8984016373&copyPaper=1&ttbkey=[ttbKey]'), ('author', 'ê¹\\x80í\\x83\\x9cê´\\x91 ì§\\x80ì\\x9d\\x8c, ì\\x9e¥ì\\x9d¸í\\x95\\x9c ê·¸ë¦¼'), ('pubDate', 'Mon, 09 Oct 2006 15:00:00 GMT'), ('description', \"<img src='http://image.aladdin.co.kr/coveretc/book/coveroff/8984016373_1.jpg'/> 10ë¶\\x84 ì\\x9d´ì\\x95¼ê¸° ëª\\x85ì\\x83\\x81 2 - ê¹\\x80í\\x83\\x9cê´\\x91 ì§\\x80ì\\x9d\\x8c, ì\\x9e¥ì\\x9d¸í\\x95\\x9c ê·¸ë¦¼ <br/> í\\x95\\x99êµ\\x90 ê³µë¶\\x80ì\\x97\\x90 ë°\\x94ì\\x81\\x9c ì´\\x88ë\\x93±í\\x95\\x99ì\\x83\\x9dë\\x93¤ì\\x9d´ 10ë¶\\x84ì\\x9d´ë\\x9d¼ë\\x8a\\x94 ì§§ì\\x9d\\x80 ì\\x8b\\x9cê°\\x84ì\\x97\\x90 í\\x8b\\x88í\\x8b\\x88ì\\x9d´ ì\\x9d½ì\\x9c¼ë©° ì\\x82¶ì\\x9d\\x98 ì§\\x80í\\x98\\x9cì\\x99\\x80 ê¸\\x8dì\\xa0\\x95ì\\xa0\\x81ì\\x9d¸ ì\\x82¬ê³\\xa0, ì\\x83\\x9dí\\x99\\x9cì\\x9d\\x98 í\\x99\\x9cë\\xa0¥ì\\x9d\\x84 ì\\x96»ì\\x9d\\x84 ì\\x88\\x98 ì\\x9e\\x88ë\\x8a\\x94 ì\\x9d´ì\\x95¼ê¸°, ê·¸ë¦¬ê³\\xa0 ë\\x94°ë\\x9c»í\\x95\\x9c ê°\\x90ë\\x8f\\x99ì\\x9d\\x84 ì¤\\x84 ì\\x88\\x98 ì\\x9e\\x88ë\\x8a\\x94 ì\\x9d´ì\\x95¼ê¸°ë¥¼ ëª¨ì\\x95\\x84 ì\\x97®ì\\x97\\x88ë\\x8b¤. ê°\\x99ì\\x9d\\x80 ì\\xa0\\x9cëª©ì\\x9d\\x98 ì\\x84¸ ê¶\\x8c ì\\x8b\\x9cë¦¬ì¦\\x88 ì¤\\x91 ë\\x91\\x90 ë²\\x88ì§¸ ê¶\\x8cì\\x9c¼ë¡\\x9c, ì\\x83\\x9dí\\x99\\x9cì\\x9d\\x98 ì§\\x80í\\x98\\x9cê°\\x80 ë¬»ì\\x96´ë\\x82\\x98ë\\x8a\\x94 ë\\x8f\\x99í\\x99\\x94ë\\x93¤ì\\x9d\\x84 ë\\x8b´ì\\x95\\x98ë\\x8b¤.\"), ('creator', 'aladdin'), ('isbn', '8984016373'), ('priceSales', '8100'), ('priceStandard', '9000'), ('stockStatus', None), ('mileage', '410'), ('cover', 'http://image.aladdin.co.kr/coveretc/book/coversum/8984016373_1.jpg'), ('categoryId', '8278'), ('categoryName', 'ë\\x8f\\x84ì\\x84\\x9c>ì\\x96´ë¦°ì\\x9d´>ì\\x97°ë\\xa0¹ë³\\x84 ë¶\\x84ë¥\\x98>ì´\\x88ë\\x93± ì\\xa0\\x84í\\x95\\x99ë\\x85\\x84>ë\\x8f\\x99í\\x99\\x94'), ('publisher', 'ì\\x98\\x81ë¦¼ì¹´ë\\x94\\x94ë\\x84\\x90'), ('customerReviewRank', '10')])]\n"
     ]
    }
   ],
   "source": [
    "import requests\n",
    "import xmltodict\n",
    "key = \"ttbmlboy101516001\"\n",
    "QueryType = \"Title\"\n",
    "user_input = \"파이썬\"\n",
    "url = f\"http://www.aladin.co.kr/ttb/api/test/ItemSearch.xml?ttbkey={key}&Query={user_input}&QueryType={QueryType}&MaxResults={10}\"\n",
    "temp = requests.get(url)\n",
    "dict_type = xmltodict.parse(temp.text)\n",
    "print(dict_type['object']['item'])\n"
   ]
  },
  {
   "cell_type": "code",
   "execution_count": null,
   "metadata": {},
   "outputs": [],
   "source": []
  },
  {
   "cell_type": "code",
   "execution_count": null,
   "metadata": {},
   "outputs": [],
   "source": []
  },
  {
   "cell_type": "code",
   "execution_count": null,
   "metadata": {},
   "outputs": [],
   "source": []
  },
  {
   "cell_type": "code",
   "execution_count": null,
   "metadata": {},
   "outputs": [],
   "source": []
  }
 ],
 "metadata": {
  "interpreter": {
   "hash": "5eb0b6aa134e545b45409be64a591bc372d49296cc6f3e1c0e20759f264b4d5a"
  },
  "kernelspec": {
   "display_name": "Python 3.9.9 64-bit (windows store)",
   "language": "python",
   "name": "python3"
  },
  "language_info": {
   "codemirror_mode": {
    "name": "ipython",
    "version": 3
   },
   "file_extension": ".py",
   "mimetype": "text/x-python",
   "name": "python",
   "nbconvert_exporter": "python",
   "pygments_lexer": "ipython3",
   "version": "3.8.8"
  },
  "orig_nbformat": 4
 },
 "nbformat": 4,
 "nbformat_minor": 2
}
